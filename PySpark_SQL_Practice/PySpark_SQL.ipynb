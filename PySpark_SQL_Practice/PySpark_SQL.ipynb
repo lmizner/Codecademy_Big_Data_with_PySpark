{
 "cells": [
  {
   "cell_type": "markdown",
   "id": "8e2b8f53-ae96-45e3-8dcd-0d9fdf2e90b2",
   "metadata": {},
   "source": [
    "# Codecademy: Practice with PySpark SQL"
   ]
  },
  {
   "cell_type": "markdown",
   "id": "6f1d8d0b-a277-4fb6-b672-af3126951206",
   "metadata": {},
   "source": [
    "### Introduction"
   ]
  },
  {
   "cell_type": "code",
   "execution_count": 9,
   "id": "d2150537-e3d2-4cab-baf8-e7ebe4f5b71c",
   "metadata": {},
   "outputs": [],
   "source": [
    "from pyspark.sql import SparkSession\n",
    "\n",
    "spark = SparkSession\\\n",
    "    .builder\\\n",
    "    .master('local[*]')\\\n",
    "    .config('spark.driver.memory', '1g')\\\n",
    "    .config('spark.app.name', 'learning_spark_sql')\\\n",
    "    .getOrCreate()"
   ]
  },
  {
   "cell_type": "code",
   "execution_count": 10,
   "id": "4efc5dc1-8c2c-42d3-849c-0411542a3035",
   "metadata": {},
   "outputs": [
    {
     "data": {
      "text/plain": [
       "pyspark.sql.session.SparkSession"
      ]
     },
     "execution_count": 10,
     "metadata": {},
     "output_type": "execute_result"
    }
   ],
   "source": [
    "# The variable `spark` is a `pyspark.sql.session.SparkSession`\n",
    "type(spark)"
   ]
  },
  {
   "cell_type": "code",
   "execution_count": 11,
   "id": "96a20eeb-3750-42ad-8e41-a58c869909ac",
   "metadata": {},
   "outputs": [
    {
     "data": {
      "text/plain": [
       "pyspark.context.SparkContext"
      ]
     },
     "execution_count": 11,
     "metadata": {},
     "output_type": "execute_result"
    }
   ],
   "source": [
    "# The underlying `SparkContext` can be accessed from the `SparkSession`\n",
    "type(spark.sparkContext)"
   ]
  },
  {
   "cell_type": "code",
   "execution_count": 12,
   "id": "b79fcf1a-4a2d-44cb-b47a-94aad82f2f33",
   "metadata": {},
   "outputs": [],
   "source": [
    "# Clear the SparkSession cache and delete the underlying `sparkContext`\n",
    "spark.stop()"
   ]
  },
  {
   "cell_type": "markdown",
   "id": "841c15b5-da0e-47ea-adda-bab921954a23",
   "metadata": {},
   "source": [
    "### Creating Spark DataFrames"
   ]
  },
  {
   "cell_type": "code",
   "execution_count": 14,
   "id": "4aa368a4-4eff-48ca-bd00-6abebd45bdfd",
   "metadata": {},
   "outputs": [],
   "source": [
    "from pyspark.sql import SparkSession\n",
    "\n",
    "# Create a new SparkSession\n",
    "spark = SparkSession\\\n",
    "    .builder\\\n",
    "    .config('spark.app.name', 'learning_spark_sql')\\\n",
    "    .getOrCreate()\n",
    "\n",
    "sample_page_views  = spark.sparkContext.parallelize([\n",
    "    [\"en\", \"Statue_of_Liberty\", \"2022-01-01\", 263],\n",
    "    [\"en\", \"Replicas_of_the_Statue_of_Liberty\", \"2022-01-01\", 11],\n",
    "    [\"en\", \"Statue_of_Lucille_Ball\" ,\"2022-01-01\", 6],\n",
    "    [\"en\", \"Statue_of_Liberty_National_Monument\", \"2022-01-01\", 4],\n",
    "    [\"en\", \"Statue_of_Liberty_play\"  ,\"2022-01-01\", 3],  \n",
    "])"
   ]
  },
  {
   "cell_type": "markdown",
   "id": "1a93f0b4-2e3e-49d1-a6c6-78f319b20f5b",
   "metadata": {},
   "source": [
    "1. Create a DataFrame from `sample_page_views`."
   ]
  },
  {
   "cell_type": "code",
   "execution_count": 16,
   "id": "50bc3705-c961-4b0a-be99-6de403151483",
   "metadata": {},
   "outputs": [
    {
     "name": "stdout",
     "output_type": "stream",
     "text": [
      "+-------------+-----------------------------------+----------+-----+\n",
      "|language_code|title                              |date      |count|\n",
      "+-------------+-----------------------------------+----------+-----+\n",
      "|en           |Statue_of_Liberty                  |2022-01-01|263  |\n",
      "|en           |Replicas_of_the_Statue_of_Liberty  |2022-01-01|11   |\n",
      "|en           |Statue_of_Lucille_Ball             |2022-01-01|6    |\n",
      "|en           |Statue_of_Liberty_National_Monument|2022-01-01|4    |\n",
      "|en           |Statue_of_Liberty_play             |2022-01-01|3    |\n",
      "+-------------+-----------------------------------+----------+-----+\n",
      "\n"
     ]
    }
   ],
   "source": [
    "## YOUR SOLUTION HERE ##\n",
    "sample_page_views_df = sample_page_views.toDF([\"language_code\", \"title\", \"date\", \"count\"])\n",
    "\n",
    "# show first 5 rows\n",
    "sample_page_views_df.show(5, truncate = False)"
   ]
  },
  {
   "cell_type": "markdown",
   "id": "1580aeb2-fec4-4a0d-9a32-3e741f3f85ca",
   "metadata": {},
   "source": [
    "2. Access the RDD underlying `sample_page_views_df`."
   ]
  },
  {
   "cell_type": "code",
   "execution_count": 17,
   "id": "205daab3-5b00-4ec8-899f-1d852fbd1e2e",
   "metadata": {},
   "outputs": [
    {
     "data": {
      "text/plain": [
       "[Row(language_code='en', title='Statue_of_Liberty', date='2022-01-01', count=263),\n",
       " Row(language_code='en', title='Replicas_of_the_Statue_of_Liberty', date='2022-01-01', count=11),\n",
       " Row(language_code='en', title='Statue_of_Lucille_Ball', date='2022-01-01', count=6),\n",
       " Row(language_code='en', title='Statue_of_Liberty_National_Monument', date='2022-01-01', count=4),\n",
       " Row(language_code='en', title='Statue_of_Liberty_play', date='2022-01-01', count=3)]"
      ]
     },
     "execution_count": 17,
     "metadata": {},
     "output_type": "execute_result"
    }
   ],
   "source": [
    "## YOUR SOLUTION HERE ##\n",
    "sample_page_views_rdd_restored = sample_page_views_df.rdd\n",
    "\n",
    "# show restored RDD\n",
    "sample_page_views_rdd_restored.collect()"
   ]
  },
  {
   "cell_type": "markdown",
   "id": "0c824f9b-dd50-4648-8e75-894aab222b95",
   "metadata": {},
   "source": [
    "### Spark DataFrames from External Sources"
   ]
  },
  {
   "cell_type": "code",
   "execution_count": 18,
   "id": "019a5e7d-5fbb-4733-a479-9be95e622ab2",
   "metadata": {},
   "outputs": [],
   "source": [
    "from pyspark.sql import SparkSession\n",
    "\n",
    "# Create a new SparkSession\n",
    "spark = SparkSession\\\n",
    "    .builder\\\n",
    "    .config('spark.app.name', 'learning_spark_sql')\\\n",
    "    .getOrCreate()"
   ]
  },
  {
   "cell_type": "markdown",
   "id": "a8c07711-9b31-4773-995b-160755c32dcf",
   "metadata": {},
   "source": [
    "1. Read in the CSV file without any specific read options specified and show the top 10 rows."
   ]
  },
  {
   "cell_type": "code",
   "execution_count": 19,
   "id": "3ea1bdb1-e0e1-4c3f-b3ed-5673b3d6d9f7",
   "metadata": {},
   "outputs": [
    {
     "name": "stdout",
     "output_type": "stream",
     "text": [
      "+------------------+-------------------+-----------------+-------------------+\n",
      "|_c0               |_c1                |_c2              |_c3                |\n",
      "+------------------+-------------------+-----------------+-------------------+\n",
      "|domain            |uniq_human_visitors|uniq_bot_visitors|total_visitor_count|\n",
      "|en.m.wikipedia.org|33261399           |8400247          |41661646           |\n",
      "|en.wikipedia.org  |17009339           |4851741          |21861080           |\n",
      "|es.m.wikipedia.org|5668575            |1977289          |7645864            |\n",
      "|ru.m.wikipedia.org|5816762            |1367179          |7183941            |\n",
      "|ja.m.wikipedia.org|5396108            |1325212          |6721320            |\n",
      "|de.m.wikipedia.org|4439596            |853251           |5292847            |\n",
      "|fr.m.wikipedia.org|3798528            |904567           |4703095            |\n",
      "|ru.wikipedia.org  |2852296            |687501           |3539797            |\n",
      "|es.wikipedia.org  |2460489            |962516           |3423005            |\n",
      "+------------------+-------------------+-----------------+-------------------+\n",
      "only showing top 10 rows\n",
      "\n"
     ]
    }
   ],
   "source": [
    "## YOUR SOLUTION HERE ##\n",
    "wiki_uniq_df = spark\\\n",
    "    .read\\\n",
    "    .csv('wiki_uniq_march_2022.csv')\n",
    "\n",
    "# show the first 10 rows\n",
    "wiki_uniq_df.show(10, truncate = False)"
   ]
  },
  {
   "cell_type": "markdown",
   "id": "0ac4b853-856c-4dc0-a8b0-2630cf6adf8d",
   "metadata": {},
   "source": [
    "2. Read in the CSV file with an option to treat the first row as a header and show the top 10 rows."
   ]
  },
  {
   "cell_type": "code",
   "execution_count": 21,
   "id": "0f2c2150-e921-4205-93d6-5084137dd52f",
   "metadata": {},
   "outputs": [
    {
     "name": "stdout",
     "output_type": "stream",
     "text": [
      "+------------------+-------------------+-----------------+-------------------+\n",
      "|domain            |uniq_human_visitors|uniq_bot_visitors|total_visitor_count|\n",
      "+------------------+-------------------+-----------------+-------------------+\n",
      "|en.m.wikipedia.org|33261399           |8400247          |41661646           |\n",
      "|en.wikipedia.org  |17009339           |4851741          |21861080           |\n",
      "|es.m.wikipedia.org|5668575            |1977289          |7645864            |\n",
      "|ru.m.wikipedia.org|5816762            |1367179          |7183941            |\n",
      "|ja.m.wikipedia.org|5396108            |1325212          |6721320            |\n",
      "|de.m.wikipedia.org|4439596            |853251           |5292847            |\n",
      "|fr.m.wikipedia.org|3798528            |904567           |4703095            |\n",
      "|ru.wikipedia.org  |2852296            |687501           |3539797            |\n",
      "|es.wikipedia.org  |2460489            |962516           |3423005            |\n",
      "|it.m.wikipedia.org|2806943            |566876           |3373819            |\n",
      "+------------------+-------------------+-----------------+-------------------+\n",
      "only showing top 10 rows\n",
      "\n"
     ]
    }
   ],
   "source": [
    "## YOUR SOLUTION HERE ##\n",
    "wiki_uniq_w_header_df = spark.read\\\n",
    "    .option('header', True)\\\n",
    "    .csv('wiki_uniq_march_2022.csv')\n",
    "\n",
    "# show the first 10 rows\n",
    "wiki_uniq_w_header_df.show(10, truncate = False)"
   ]
  },
  {
   "cell_type": "markdown",
   "id": "79c4e322-3f6e-458e-a71d-0c430be5a820",
   "metadata": {},
   "source": [
    "3. Check the data types of `wiki_uniq_w_header_df`."
   ]
  },
  {
   "cell_type": "code",
   "execution_count": 22,
   "id": "145ecca3-8a9a-4ae1-9fe7-ec51bc7fcd66",
   "metadata": {},
   "outputs": [
    {
     "data": {
      "text/plain": [
       "[('domain', 'string'),\n",
       " ('uniq_human_visitors', 'string'),\n",
       " ('uniq_bot_visitors', 'string'),\n",
       " ('total_visitor_count', 'string')]"
      ]
     },
     "execution_count": 22,
     "metadata": {},
     "output_type": "execute_result"
    }
   ],
   "source": [
    "# show the data types\n",
    "wiki_uniq_w_header_df.dtypes"
   ]
  },
  {
   "cell_type": "markdown",
   "id": "5b786b81-0e68-4177-9428-e25502a14f5e",
   "metadata": {},
   "source": [
    "4. Read in the CSV file with an option to treat the first row as a header and infer the schema. Then check the data types of `wiki_uniq_w_schema_df`."
   ]
  },
  {
   "cell_type": "code",
   "execution_count": 23,
   "id": "050009f7-9995-45f0-88df-f32b2c8e6fd8",
   "metadata": {},
   "outputs": [
    {
     "data": {
      "text/plain": [
       "[('domain', 'string'),\n",
       " ('uniq_human_visitors', 'int'),\n",
       " ('uniq_bot_visitors', 'int'),\n",
       " ('total_visitor_count', 'int')]"
      ]
     },
     "execution_count": 23,
     "metadata": {},
     "output_type": "execute_result"
    }
   ],
   "source": [
    "## YOUR SOLUTION HERE ##\n",
    "wiki_uniq_w_schema_df = spark.read\\\n",
    "    .option('header', True)\\\n",
    "    .option('inferSchema', True)\\\n",
    "    .csv('wiki_uniq_march_2022.csv')\n",
    "\n",
    "# show the data types\n",
    "wiki_uniq_w_schema_df.dtypes"
   ]
  },
  {
   "cell_type": "markdown",
   "id": "120b585d-5845-4598-9bf5-c646c0919cb3",
   "metadata": {},
   "source": [
    "### Inspecting and Cleaning Data With PySpark"
   ]
  },
  {
   "cell_type": "code",
   "execution_count": 24,
   "id": "af24aeb4-3811-4d24-b248-659246602793",
   "metadata": {},
   "outputs": [],
   "source": [
    "from pyspark.sql import SparkSession\n",
    "\n",
    "spark = SparkSession \\\n",
    "    .builder \\\n",
    "    .appName(\"learning_spark_sql\") \\\n",
    "    .getOrCreate()\n",
    "\n",
    "# read in the Wikipedia unique visitors dataset\n",
    "uniq_views_df = spark.read\\\n",
    "    .option('header', True) \\\n",
    "    .option('delimiter', ',') \\\n",
    "    .option('inferSchema', True) \\\n",
    "    .csv(\"wiki_uniq_march_2022.csv\")"
   ]
  },
  {
   "cell_type": "markdown",
   "id": "2dbec15a-38f5-45ad-b8bc-6ba6c7961802",
   "metadata": {},
   "source": [
    "1. Print the DataFrame schema for `uniq_views_df`."
   ]
  },
  {
   "cell_type": "code",
   "execution_count": 25,
   "id": "2879cbc5-bd3e-48f1-b2b5-d701103db190",
   "metadata": {},
   "outputs": [
    {
     "name": "stdout",
     "output_type": "stream",
     "text": [
      "root\n",
      " |-- domain: string (nullable = true)\n",
      " |-- uniq_human_visitors: integer (nullable = true)\n",
      " |-- uniq_bot_visitors: integer (nullable = true)\n",
      " |-- total_visitor_count: integer (nullable = true)\n",
      "\n"
     ]
    }
   ],
   "source": [
    "## YOUR SOLUTION HERE ##\n",
    "uniq_views_df.printSchema()"
   ]
  },
  {
   "cell_type": "markdown",
   "id": "24c2b473-1aa7-4d40-810e-609ee9a8935f",
   "metadata": {},
   "source": [
    "2. Show a description of the data for `uniq_views_df`."
   ]
  },
  {
   "cell_type": "code",
   "execution_count": 29,
   "id": "97666d75-8829-4f88-900a-c654b95ce394",
   "metadata": {},
   "outputs": [
    {
     "name": "stdout",
     "output_type": "stream",
     "text": [
      "+-------+----------------+-------------------+-----------------+-------------------+\n",
      "|summary|          domain|uniq_human_visitors|uniq_bot_visitors|total_visitor_count|\n",
      "+-------+----------------+-------------------+-----------------+-------------------+\n",
      "|  count|             760|                760|              760|                760|\n",
      "|   mean|            NULL|  155413.0394736842| 51431.0552631579| 206844.09473684212|\n",
      "| stddev|            NULL| 1435327.5409314982| 376318.441663093| 1809320.9789242456|\n",
      "|    min|aa.wikibooks.org|                  0|              170|               1005|\n",
      "|    max|zu.wikipedia.org|           33261399|          8400247|           41661646|\n",
      "+-------+----------------+-------------------+-----------------+-------------------+\n",
      "\n"
     ]
    }
   ],
   "source": [
    "## YOUR SOLUTION HERE ##\n",
    "uniq_views_df_desc = uniq_views_df.describe()\n",
    "\n",
    "# show summary\n",
    "uniq_views_df_desc.show()"
   ]
  },
  {
   "cell_type": "markdown",
   "id": "59632603-7026-4b8a-a097-6f61a3cb46f6",
   "metadata": {},
   "source": [
    "3. Drop the columns `total_visitor_count` and `uniq_bot_visitors`."
   ]
  },
  {
   "cell_type": "code",
   "execution_count": 30,
   "id": "268a988d-013e-4bbd-8bdd-0ef6e28e9706",
   "metadata": {},
   "outputs": [
    {
     "name": "stdout",
     "output_type": "stream",
     "text": [
      "+------------------+-------------------+\n",
      "|            domain|uniq_human_visitors|\n",
      "+------------------+-------------------+\n",
      "|en.m.wikipedia.org|           33261399|\n",
      "|  en.wikipedia.org|           17009339|\n",
      "|es.m.wikipedia.org|            5668575|\n",
      "|ru.m.wikipedia.org|            5816762|\n",
      "|ja.m.wikipedia.org|            5396108|\n",
      "+------------------+-------------------+\n",
      "only showing top 5 rows\n",
      "\n"
     ]
    }
   ],
   "source": [
    "## YOUR SOLUTION HERE ##\n",
    "uniq_counts_human_df = uniq_views_df.drop('total_visitor_count', 'uniq_bot_visitors')\n",
    "\n",
    "# show the first 5 rows\n",
    "uniq_counts_human_df.show(5)"
   ]
  },
  {
   "cell_type": "markdown",
   "id": "a66b8f7c-778e-4cb5-86fe-1a09d3ea2243",
   "metadata": {},
   "source": [
    "4. Rename `uniq_human_visitors` to `unique_site_visitors`."
   ]
  },
  {
   "cell_type": "code",
   "execution_count": 31,
   "id": "d3dbe027-54e5-4112-ba1b-fc7e23344dc1",
   "metadata": {},
   "outputs": [
    {
     "name": "stdout",
     "output_type": "stream",
     "text": [
      "+------------------+--------------------+\n",
      "|            domain|unique_site_visitors|\n",
      "+------------------+--------------------+\n",
      "|en.m.wikipedia.org|            33261399|\n",
      "|  en.wikipedia.org|            17009339|\n",
      "|es.m.wikipedia.org|             5668575|\n",
      "|ru.m.wikipedia.org|             5816762|\n",
      "|ja.m.wikipedia.org|             5396108|\n",
      "+------------------+--------------------+\n",
      "only showing top 5 rows\n",
      "\n"
     ]
    }
   ],
   "source": [
    "## YOUR SOLUTION HERE ##\n",
    "uniq_counts_final_df = uniq_counts_human_df.withColumnRenamed('uniq_human_visitors', 'unique_site_visitors')\n",
    "\n",
    "# show the first 5 rows\n",
    "uniq_counts_final_df.show(5)"
   ]
  },
  {
   "cell_type": "markdown",
   "id": "74b524d2-430a-47f5-952f-4463251a7c19",
   "metadata": {},
   "source": [
    "### Querying PySpark DataFrames"
   ]
  },
  {
   "cell_type": "code",
   "execution_count": 34,
   "id": "baa38300-ce4f-4d98-b858-9a6c24377410",
   "metadata": {},
   "outputs": [],
   "source": [
    "from pyspark.sql import SparkSession\n",
    "\n",
    "# Create a New SparkSession\n",
    "spark = SparkSession \\\n",
    "    .builder \\\n",
    "    .appName(\"learning_spark_sql\") \\\n",
    "    .getOrCreate()\n",
    "\n",
    "# Read in Wikipedia Unique Visitors Dataset\n",
    "wiki_uniq_df = spark.read\\\n",
    "    .option('header', True) \\\n",
    "    .option('delimiter', ',') \\\n",
    "    .option('inferSchema', True) \\\n",
    "    .csv(\"wiki_uniq_march_2022_w_site_type.csv\")"
   ]
  },
  {
   "cell_type": "markdown",
   "id": "b88d8f51-97c5-4b8b-b25f-1329d425804e",
   "metadata": {},
   "source": [
    "1. Filter the DataFrame to sites with `language_code` is `\"ar\"`."
   ]
  },
  {
   "cell_type": "code",
   "execution_count": 35,
   "id": "1cfbc59b-c69a-4411-b78b-d329c9e56be7",
   "metadata": {},
   "outputs": [
    {
     "name": "stdout",
     "output_type": "stream",
     "text": [
      "+--------------------+-------------------+-----------------+-------------------+-------------+-----------+\n",
      "|              domain|uniq_human_visitors|uniq_bot_visitors|total_visitor_count|language_code|  site_type|\n",
      "+--------------------+-------------------+-----------------+-------------------+-------------+-----------+\n",
      "|  ar.m.wikipedia.org|            1644253|           750620|            2394873|           ar|  wikipedia|\n",
      "|    ar.wikipedia.org|             212695|            97700|             310395|           ar|  wikipedia|\n",
      "| ar.m.wikisource.org|              56124|            52885|             109009|           ar| wikisource|\n",
      "|   ar.wikisource.org|               2134|             4355|               6489|           ar| wikisource|\n",
      "|  ar.m.wikiquote.org|                776|             3511|               4287|           ar|  wikiquote|\n",
      "|   ar.wiktionary.org|                262|             2335|               2597|           ar| wiktionary|\n",
      "| ar.m.wiktionary.org|                448|             1577|               2025|           ar| wiktionary|\n",
      "|ar.m.wikiversity.org|                389|              958|               1347|           ar|wikiversity|\n",
      "|  ar.m.wikibooks.org|                378|              855|               1233|           ar|  wikibooks|\n",
      "+--------------------+-------------------+-----------------+-------------------+-------------+-----------+\n",
      "\n"
     ]
    }
   ],
   "source": [
    "## YOUR SOLUTION HERE ##\n",
    "ar_site_visitors = wiki_uniq_df\\\n",
    "    .filter(wiki_uniq_df.language_code == 'ar')\n",
    "\n",
    "# show the DataFrame\n",
    "ar_site_visitors.show()"
   ]
  },
  {
   "cell_type": "markdown",
   "id": "45234a15-79ca-4669-a072-3dd4c625767c",
   "metadata": {},
   "source": [
    "2. Filter the DataFrame to sites with `language_code` is `\"ar\"` and keep only the columns `domain` and `uniq_human_visitors`. "
   ]
  },
  {
   "cell_type": "code",
   "execution_count": 36,
   "id": "8cb1ac9a-3bf8-4d8b-9078-6bd0ae7f2a30",
   "metadata": {},
   "outputs": [
    {
     "name": "stdout",
     "output_type": "stream",
     "text": [
      "+--------------------+-------------------+\n",
      "|              domain|uniq_human_visitors|\n",
      "+--------------------+-------------------+\n",
      "|  ar.m.wikipedia.org|            1644253|\n",
      "|    ar.wikipedia.org|             212695|\n",
      "| ar.m.wikisource.org|              56124|\n",
      "|   ar.wikisource.org|               2134|\n",
      "|  ar.m.wikiquote.org|                776|\n",
      "|   ar.wiktionary.org|                262|\n",
      "| ar.m.wiktionary.org|                448|\n",
      "|ar.m.wikiversity.org|                389|\n",
      "|  ar.m.wikibooks.org|                378|\n",
      "+--------------------+-------------------+\n",
      "\n"
     ]
    }
   ],
   "source": [
    "## YOUR SOLUTION HERE ##\n",
    "ar_visitors_slim = wiki_uniq_df\\\n",
    "    .select(['domain', 'uniq_human_visitors'])\\\n",
    "    .filter(wiki_uniq_df.language_code == 'ar')\n",
    "\n",
    "# show the DataFrame\n",
    "ar_visitors_slim.show()"
   ]
  },
  {
   "cell_type": "markdown",
   "id": "454d0e61-0cbb-44e3-ab4a-197595a1e9cf",
   "metadata": {},
   "source": [
    "3. Calculate the sum of all `uniq_human_visitors` grouped by `site_type` and ordered from highest to lowest page views."
   ]
  },
  {
   "cell_type": "code",
   "execution_count": 37,
   "id": "9f18c6f3-66e2-44ae-8be1-576610e710af",
   "metadata": {},
   "outputs": [
    {
     "name": "stdout",
     "output_type": "stream",
     "text": [
      "+-----------+------------------------+\n",
      "|  site_type|sum(uniq_human_visitors)|\n",
      "+-----------+------------------------+\n",
      "|  wikipedia|               116527479|\n",
      "| wiktionary|                  892193|\n",
      "|  wikimedia|                  312995|\n",
      "| wikisource|                  172179|\n",
      "|   wikidata|                   69744|\n",
      "|  wikibooks|                   54680|\n",
      "|  wikiquote|                   38048|\n",
      "| wikivoyage|                   14648|\n",
      "|       wiki|                   13067|\n",
      "|wikiversity|                   12548|\n",
      "|   wikinews|                    5578|\n",
      "|   wikitech|                     751|\n",
      "+-----------+------------------------+\n",
      "\n"
     ]
    }
   ],
   "source": [
    "## YOUR SOLUTION HERE ##\n",
    "top_visitors_site_type = wiki_uniq_df\\\n",
    "    .select(['site_type', 'uniq_human_visitors'])\\\n",
    "    .groupBy('site_type')\\\n",
    "    .sum()\\\n",
    "    .orderBy('sum(uniq_human_visitors)', ascending = False)\n",
    "\n",
    "# show the DataFrame\n",
    "top_visitors_site_type.show()"
   ]
  },
  {
   "cell_type": "markdown",
   "id": "88b1f068-aff0-49ff-a84c-b451f79ebb5e",
   "metadata": {},
   "source": [
    "### Querying PySpark with SQL"
   ]
  },
  {
   "cell_type": "code",
   "execution_count": 38,
   "id": "b75aadef-db33-4e9e-a0fa-01847bae6783",
   "metadata": {},
   "outputs": [],
   "source": [
    "from pyspark.sql import SparkSession\n",
    "\n",
    "# Create a new SparkSession\n",
    "spark = SparkSession \\\n",
    "    .builder \\\n",
    "    .appName(\"learning_spark_sql\") \\\n",
    "    .getOrCreate()\n",
    "\n",
    "# Read in Wikipedia Unique Visitors Dataset\n",
    "wiki_uniq_df = spark.read\\\n",
    "    .option('header', True) \\\n",
    "    .option('delimiter', ',') \\\n",
    "    .option('inferSchema', True) \\\n",
    "    .csv(\"wiki_uniq_march_2022_w_site_type.csv\")\n",
    "\n",
    "# Create a temporary view with the DataFrame\n",
    "wiki_uniq_df\\\n",
    "    .createOrReplaceTempView('uniq_visitors_march')"
   ]
  },
  {
   "cell_type": "markdown",
   "id": "14bc7ad1-d845-46b1-acf8-b488b1a3223e",
   "metadata": {},
   "source": [
    "1. Filter the DataFrame to sites where `language_code` is `\"ar\"`."
   ]
  },
  {
   "cell_type": "code",
   "execution_count": 39,
   "id": "abdcd6ae-d320-4b80-b142-b2e5b92235ae",
   "metadata": {},
   "outputs": [
    {
     "name": "stdout",
     "output_type": "stream",
     "text": [
      "+--------------------+-------------------+-----------------+-------------------+-------------+-----------+\n",
      "|domain              |uniq_human_visitors|uniq_bot_visitors|total_visitor_count|language_code|site_type  |\n",
      "+--------------------+-------------------+-----------------+-------------------+-------------+-----------+\n",
      "|ar.m.wikipedia.org  |1644253            |750620           |2394873            |ar           |wikipedia  |\n",
      "|ar.wikipedia.org    |212695             |97700            |310395             |ar           |wikipedia  |\n",
      "|ar.m.wikisource.org |56124              |52885            |109009             |ar           |wikisource |\n",
      "|ar.wikisource.org   |2134               |4355             |6489               |ar           |wikisource |\n",
      "|ar.m.wikiquote.org  |776                |3511             |4287               |ar           |wikiquote  |\n",
      "|ar.wiktionary.org   |262                |2335             |2597               |ar           |wiktionary |\n",
      "|ar.m.wiktionary.org |448                |1577             |2025               |ar           |wiktionary |\n",
      "|ar.m.wikiversity.org|389                |958              |1347               |ar           |wikiversity|\n",
      "|ar.m.wikibooks.org  |378                |855              |1233               |ar           |wikibooks  |\n",
      "+--------------------+-------------------+-----------------+-------------------+-------------+-----------+\n",
      "\n"
     ]
    }
   ],
   "source": [
    "## YOUR SOLUTION HERE ##\n",
    "ar_site_visitors_qry = \"\"\"\n",
    "    SELECT * \n",
    "    FROM uniq_visitors_march\n",
    "    WHERE language_code = 'ar';\n",
    "\"\"\"\n",
    "    \n",
    "# show the DataFrame\n",
    "spark.sql(ar_site_visitors_qry)\\\n",
    "    .show(truncate = False)"
   ]
  },
  {
   "cell_type": "markdown",
   "id": "5091a04d-8768-4d19-9ad6-2b0261a8c558",
   "metadata": {},
   "source": [
    "2. Filter the DataFrame to sites with `language_code` is `\"ar\"` and keep only the columns `domain` and `uniq_human_visitors`."
   ]
  },
  {
   "cell_type": "code",
   "execution_count": 40,
   "id": "af626757-c1ad-4179-b90f-9b4c57129b99",
   "metadata": {},
   "outputs": [
    {
     "name": "stdout",
     "output_type": "stream",
     "text": [
      "+--------------------+-------------------+\n",
      "|domain              |uniq_human_visitors|\n",
      "+--------------------+-------------------+\n",
      "|ar.m.wikipedia.org  |1644253            |\n",
      "|ar.wikipedia.org    |212695             |\n",
      "|ar.m.wikisource.org |56124              |\n",
      "|ar.wikisource.org   |2134               |\n",
      "|ar.m.wikiquote.org  |776                |\n",
      "|ar.wiktionary.org   |262                |\n",
      "|ar.m.wiktionary.org |448                |\n",
      "|ar.m.wikiversity.org|389                |\n",
      "|ar.m.wikibooks.org  |378                |\n",
      "+--------------------+-------------------+\n",
      "\n"
     ]
    }
   ],
   "source": [
    "## YOUR SOLUTION HERE ##\n",
    "ar_site_visitors_slim_qry = \"\"\"\n",
    "    SELECT domain, uniq_human_visitors\n",
    "    FROM uniq_visitors_march\n",
    "    WHERE language_code = 'ar';\n",
    "\"\"\"\n",
    "\n",
    "# show the DataFrame\n",
    "spark.sql(ar_site_visitors_slim_qry)\\\n",
    "    .show(truncate = False)"
   ]
  },
  {
   "cell_type": "markdown",
   "id": "0f909928-6d39-4669-8a44-28a74dd2db66",
   "metadata": {},
   "source": [
    "3. Calculate the sum of all `uniq_human_visitors` grouped by `site_type` and ordered from highest to lowest `uniq_human_visitors`."
   ]
  },
  {
   "cell_type": "code",
   "execution_count": 41,
   "id": "ebc264e6-a47e-4173-8ac1-30d1c50ccfc8",
   "metadata": {},
   "outputs": [
    {
     "name": "stdout",
     "output_type": "stream",
     "text": [
      "+-----------+------------------------+\n",
      "|site_type  |sum(uniq_human_visitors)|\n",
      "+-----------+------------------------+\n",
      "|wikipedia  |116527479               |\n",
      "|wiktionary |892193                  |\n",
      "|wikimedia  |312995                  |\n",
      "|wikisource |172179                  |\n",
      "|wikidata   |69744                   |\n",
      "|wikibooks  |54680                   |\n",
      "|wikiquote  |38048                   |\n",
      "|wikivoyage |14648                   |\n",
      "|wiki       |13067                   |\n",
      "|wikiversity|12548                   |\n",
      "|wikinews   |5578                    |\n",
      "|wikitech   |751                     |\n",
      "+-----------+------------------------+\n",
      "\n"
     ]
    }
   ],
   "source": [
    "## YOUR SOLUTION HERE ##\n",
    "site_top_type_qry = \"\"\"\n",
    "    SELECT site_type, SUM(uniq_human_visitors)\n",
    "    FROM uniq_visitors_march\n",
    "    GROUP BY site_type\n",
    "    ORDER BY SUM(uniq_human_visitors) DESC;\n",
    "\"\"\"\n",
    "\n",
    "# show the DataFrame\n",
    "spark.sql(site_top_type_qry)\\\n",
    "    .show(truncate = False)"
   ]
  },
  {
   "cell_type": "markdown",
   "id": "f9d73aaa-896b-454f-879c-535c3eacac6f",
   "metadata": {},
   "source": [
    "### Saving PySpark DataFrames"
   ]
  },
  {
   "cell_type": "code",
   "execution_count": 42,
   "id": "bed79f2d-dfb7-4a95-8e84-b4613499ebc0",
   "metadata": {},
   "outputs": [],
   "source": [
    "from pyspark.sql import SparkSession\n",
    "\n",
    "# Create a new SparkSession\n",
    "spark = SparkSession\\\n",
    "    .builder\\\n",
    "    .config('spark.app.name', 'learning_spark_sql')\\\n",
    "    .getOrCreate()\n",
    "\n",
    "# Read in Wikipedia Unique Visitors Dataset\n",
    "wiki_uniq_df = spark.read\\\n",
    "    .option('header', True) \\\n",
    "    .option('delimiter', ',') \\\n",
    "    .option('inferSchema', True) \\\n",
    "    .csv(\"wiki_uniq_march_2022.csv\")"
   ]
  },
  {
   "cell_type": "markdown",
   "id": "8eb051b7-53c0-4ea4-9a1c-f59a3001d610",
   "metadata": {},
   "source": [
    "1. Run the code to create a new DataFrame with only `domain` and `uniq_human_visitors`."
   ]
  },
  {
   "cell_type": "code",
   "execution_count": 43,
   "id": "0a23c5fb-15f7-476c-a881-7979315df8ac",
   "metadata": {},
   "outputs": [
    {
     "name": "stdout",
     "output_type": "stream",
     "text": [
      "+------------------+-------------------+\n",
      "|            domain|uniq_human_visitors|\n",
      "+------------------+-------------------+\n",
      "|en.m.wikipedia.org|           33261399|\n",
      "|  en.wikipedia.org|           17009339|\n",
      "|es.m.wikipedia.org|            5668575|\n",
      "|ru.m.wikipedia.org|            5816762|\n",
      "|ja.m.wikipedia.org|            5396108|\n",
      "|de.m.wikipedia.org|            4439596|\n",
      "|fr.m.wikipedia.org|            3798528|\n",
      "|  ru.wikipedia.org|            2852296|\n",
      "|  es.wikipedia.org|            2460489|\n",
      "|it.m.wikipedia.org|            2806943|\n",
      "|  de.wikipedia.org|            2252670|\n",
      "|  ja.wikipedia.org|            2128471|\n",
      "|  fr.wikipedia.org|            1839196|\n",
      "|zh.m.wikipedia.org|            2123391|\n",
      "|ar.m.wikipedia.org|            1644253|\n",
      "|pt.m.wikipedia.org|            1471752|\n",
      "|pl.m.wikipedia.org|            1410339|\n",
      "|fa.m.wikipedia.org|            1194940|\n",
      "|  zh.wikipedia.org|            1088755|\n",
      "|tr.m.wikipedia.org|             908573|\n",
      "+------------------+-------------------+\n",
      "only showing top 20 rows\n",
      "\n"
     ]
    }
   ],
   "source": [
    "# select only domain and uniq_human visitors\n",
    "uniq_human_visitors_df = wiki_uniq_df\\\n",
    "    .select('domain', 'uniq_human_visitors')\n",
    "\n",
    "# show the new DataFrame\n",
    "uniq_human_visitors_df.show()"
   ]
  },
  {
   "cell_type": "markdown",
   "id": "656b5603-4d03-4de4-9a41-955c984be927",
   "metadata": {},
   "source": [
    "2. Save the new DataFrame as CSV files."
   ]
  },
  {
   "cell_type": "code",
   "execution_count": 46,
   "id": "b53f2db1-af1e-4fc4-9bda-c41afe1adfd5",
   "metadata": {},
   "outputs": [],
   "source": [
    "## YOUR SOLUTION HERE ##\n",
    "uniq_human_visitors_df.write.csv('./results/csv/uniq_human_visitors/', mode = 'overwrite')"
   ]
  },
  {
   "cell_type": "markdown",
   "id": "66bbaeb1-86ec-47e1-a524-f06198d1f930",
   "metadata": {},
   "source": [
    "3. Save the new DataFrame as Parquet files."
   ]
  },
  {
   "cell_type": "code",
   "execution_count": 48,
   "id": "b53b3e90-abee-44fc-a8fc-2b7d92c22f2c",
   "metadata": {},
   "outputs": [],
   "source": [
    "## YOUR SOLUTION HERE ##\n",
    "uniq_human_visitors_df.write.parquet('./results/pq/uniq_human_visitors/', mode = 'overwrite')"
   ]
  },
  {
   "cell_type": "code",
   "execution_count": null,
   "id": "253ffa0e-f805-4002-9fc1-5a64e9e53bb7",
   "metadata": {},
   "outputs": [],
   "source": []
  }
 ],
 "metadata": {
  "kernelspec": {
   "display_name": "Python 3 (ipykernel)",
   "language": "python",
   "name": "python3"
  },
  "language_info": {
   "codemirror_mode": {
    "name": "ipython",
    "version": 3
   },
   "file_extension": ".py",
   "mimetype": "text/x-python",
   "name": "python",
   "nbconvert_exporter": "python",
   "pygments_lexer": "ipython3",
   "version": "3.11.6"
  }
 },
 "nbformat": 4,
 "nbformat_minor": 5
}
